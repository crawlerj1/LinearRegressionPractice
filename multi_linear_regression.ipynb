{
 "cells": [
  {
   "cell_type": "markdown",
   "id": "934b203f",
   "metadata": {},
   "source": [
    "# Predicting The House Prices of Banglore Using LinearRegression"
   ]
  },
  {
   "cell_type": "code",
   "execution_count": null,
   "id": "568053e8",
   "metadata": {},
   "outputs": [],
   "source": [
    "import pandas as pd\n",
    "import numpy as np\n",
    "from sklearn.model_selection import train_test_split\n",
    "from sklearn.linear_model import LinearRegression\n",
    "\n"
   ]
  },
  {
   "cell_type": "markdown",
   "id": "24e6d4d6",
   "metadata": {},
   "source": [
    "# Reading Data"
   ]
  },
  {
   "cell_type": "code",
   "execution_count": null,
   "id": "0f6eab16",
   "metadata": {},
   "outputs": [],
   "source": [
    "data=pd.read_csv(\"/Users/jaypanchal/aiml/data/Bengaluru_House_Data.csv\")"
   ]
  },
  {
   "cell_type": "code",
   "execution_count": null,
   "id": "3426c783",
   "metadata": {},
   "outputs": [],
   "source": [
    "print(data.shape)\n",
    "print(data.info())"
   ]
  },
  {
   "cell_type": "code",
   "execution_count": null,
   "id": "2a47f104",
   "metadata": {},
   "outputs": [],
   "source": [
    "data.head(5)"
   ]
  },
  {
   "cell_type": "code",
   "execution_count": null,
   "id": "f108386a",
   "metadata": {},
   "outputs": [],
   "source": [
    "data.isnull().sum() # Contains many null values lets analyze and try to fill those"
   ]
  },
  {
   "cell_type": "code",
   "execution_count": null,
   "id": "2da1ed87",
   "metadata": {},
   "outputs": [],
   "source": [
    "data=data.drop(columns=['availability','society'])"
   ]
  },
  {
   "cell_type": "code",
   "execution_count": null,
   "id": "ed592dab",
   "metadata": {},
   "outputs": [],
   "source": [
    "for col in [\"location\",\"size\",\"bath\",\"balcony\"]:\n",
    "   print(f\"{col} : {data[col].value_counts()}\")"
   ]
  },
  {
   "cell_type": "code",
   "execution_count": null,
   "id": "fff59707",
   "metadata": {},
   "outputs": [],
   "source": [
    "\n",
    "def fill_na(data,data_cols):\n",
    "    for col in data_cols:\n",
    "        if col==\"location\":\n",
    "            data[col]=data[col].fillna('Whitefield')\n",
    "        elif col==\"size\":\n",
    "            data[col]=data[col].fillna('2 BHK')\n",
    "        elif col==\"bath\":\n",
    "            data[col]=data[col].fillna(data[col].median) \n",
    "        elif col==\"balcony\":\n",
    "            data[col] = data[col].fillna(data[col].mode()[0])\n",
    "    return data\n",
    "            \n",
    "data_cols=[\"location\",\"size\",\"bath\",\"balcony\"]\n",
    "data=fill_na(data,data_cols)"
   ]
  },
  {
   "cell_type": "code",
   "execution_count": null,
   "id": "fb9411eb",
   "metadata": {},
   "outputs": [],
   "source": [
    "data.isnull().sum()"
   ]
  },
  {
   "cell_type": "code",
   "execution_count": null,
   "id": "793c2ea9",
   "metadata": {},
   "outputs": [],
   "source": [
    "data.info()"
   ]
  },
  {
   "cell_type": "code",
   "execution_count": null,
   "id": "199ec89e",
   "metadata": {},
   "outputs": [],
   "source": [
    "data.describe()"
   ]
  },
  {
   "cell_type": "code",
   "execution_count": null,
   "id": "86b101ff",
   "metadata": {},
   "outputs": [],
   "source": [
    "data.tail(5)"
   ]
  },
  {
   "cell_type": "code",
   "execution_count": null,
   "id": "56f09ac7",
   "metadata": {},
   "outputs": [],
   "source": [
    "for i in data.columns:\n",
    "    print(data[i].unique())"
   ]
  },
  {
   "cell_type": "code",
   "execution_count": null,
   "id": "74d64803",
   "metadata": {},
   "outputs": [],
   "source": [
    "def convert_sqft(x):\n",
    "    try:\n",
    "        if '-' in x:\n",
    "            tokens = x.split('-')\n",
    "            return (float(tokens[0]) + float(tokens[1])) / 2\n",
    "        return float(x)\n",
    "    except:\n",
    "        return np.nan\n",
    "\n",
    "data['total_sqft'] = data['total_sqft'].apply(convert_sqft)\n",
    "data = data.dropna(subset=['total_sqft'])"
   ]
  },
  {
   "cell_type": "code",
   "execution_count": null,
   "id": "0e446d87",
   "metadata": {},
   "outputs": [],
   "source": [
    "data['bhk'] = data['size'].apply(lambda x: int(x.split(' ')[0]))\n",
    "data = data.drop('size', axis=1)"
   ]
  },
  {
   "cell_type": "code",
   "execution_count": null,
   "id": "c1cd95c7",
   "metadata": {},
   "outputs": [],
   "source": [
    "data['bath'] = pd.to_numeric(data['bath'], errors='coerce')\n",
    "data = data.dropna(subset=['bath'])\n",
    "data['bath'] = data['bath'].astype(int)\n"
   ]
  },
  {
   "cell_type": "code",
   "execution_count": null,
   "id": "49488b22",
   "metadata": {},
   "outputs": [],
   "source": [
    "data['balcony'] = data['balcony'].fillna(data['balcony'].median())\n",
    "data['balcony'] = data['balcony'].astype(int)\n"
   ]
  },
  {
   "cell_type": "code",
   "execution_count": null,
   "id": "f1bd5ba8",
   "metadata": {},
   "outputs": [],
   "source": [
    "data['location'] = data['location'].str.strip()\n",
    "location_counts = data['location'].value_counts()\n",
    "data['location'] = data['location'].apply(lambda x: 'other' if location_counts[x] <= 10 else x)\n",
    "data = pd.get_dummies(data, columns=['area_type', 'location'], drop_first=True)"
   ]
  },
  {
   "cell_type": "code",
   "execution_count": null,
   "id": "b67ecc14",
   "metadata": {},
   "outputs": [],
   "source": [
    "data = data[(data['total_sqft'] >= 300) & (data['total_sqft'] <= 10000)]"
   ]
  },
  {
   "cell_type": "code",
   "execution_count": null,
   "id": "75c885be",
   "metadata": {},
   "outputs": [],
   "source": [
    "data = data[(data['price'] >= 10) & (data['price'] <= 500)]\n"
   ]
  },
  {
   "cell_type": "code",
   "execution_count": null,
   "id": "8a7f282c",
   "metadata": {},
   "outputs": [],
   "source": [
    "data.head()"
   ]
  },
  {
   "cell_type": "code",
   "execution_count": null,
   "id": "812646fe",
   "metadata": {},
   "outputs": [],
   "source": [
    "data.describe()"
   ]
  },
  {
   "cell_type": "code",
   "execution_count": null,
   "id": "4a996026",
   "metadata": {},
   "outputs": [],
   "source": [
    "X = data.drop(['price'], axis=1)\n",
    "y = data['price']"
   ]
  },
  {
   "cell_type": "code",
   "execution_count": null,
   "id": "7d5972a6",
   "metadata": {},
   "outputs": [],
   "source": [
    "\n",
    "X_train, X_test, y_train, y_test = train_test_split(X, y, test_size=0.2, random_state=42)\n"
   ]
  },
  {
   "cell_type": "code",
   "execution_count": null,
   "id": "9da27940",
   "metadata": {},
   "outputs": [],
   "source": [
    "\n",
    "model = LinearRegression()\n",
    "model.fit(X_train, y_train)\n"
   ]
  },
  {
   "cell_type": "code",
   "execution_count": null,
   "id": "a5d40bbf",
   "metadata": {},
   "outputs": [],
   "source": [
    "\n",
    "print(\"R2:\", model.score(X_test, y_test))"
   ]
  },
  {
   "cell_type": "code",
   "execution_count": null,
   "id": "2463043b",
   "metadata": {},
   "outputs": [],
   "source": []
  }
 ],
 "metadata": {
  "kernelspec": {
   "display_name": ".venv",
   "language": "python",
   "name": "python3"
  },
  "language_info": {
   "codemirror_mode": {
    "name": "ipython",
    "version": 3
   },
   "file_extension": ".py",
   "mimetype": "text/x-python",
   "name": "python",
   "nbconvert_exporter": "python",
   "pygments_lexer": "ipython3",
   "version": "3.13.7"
  }
 },
 "nbformat": 4,
 "nbformat_minor": 5
}
